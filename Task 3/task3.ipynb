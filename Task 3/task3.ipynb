{
 "cells": [
  {
   "cell_type": "code",
   "execution_count": 69,
   "id": "2756859a-91d8-4cc2-abbe-b8c65a9eaa45",
   "metadata": {},
   "outputs": [],
   "source": [
    "#Task: Movie Review Sentiment Analysis (Beginners & Experienced Interns)\n",
    "#Goal: Build a model that classifies movie reviews as positive or negative based on sentiment analysis.\n",
    "#Requirements:\n",
    "#● Preprocess text data (lowercasing, removing stopwords, tokenization).\n",
    "#● Train a machine learning model (Logistic Regression, Naïve Bayes, or SVM).\n",
    "#● Evaluate the model using accuracy and F1-score.\n",
    "#● (Optional) Create a simple interface where users can enter a review, and the model predicts the sentiment.\n",
    "#Dataset:\n",
    "#● IMDb Movie Reviews Dataset\n",
    "#Expected Outcome:\n",
    "#A basic sentiment analysis system that classifies movie reviews as positive or negative."
   ]
  },
  {
   "cell_type": "code",
   "execution_count": 70,
   "id": "c08f1128-3a4f-4b89-b69e-43620d21c3cc",
   "metadata": {},
   "outputs": [],
   "source": [
    "\n",
    "# Import necessary libraries\n",
    "import nltk\n",
    "import random\n",
    "from nltk.corpus import movie_reviews\n",
    "from sklearn.feature_extraction.text import TfidfVectorizer\n",
    "from sklearn.model_selection import train_test_split\n",
    "from sklearn.naive_bayes import MultinomialNB\n",
    "from sklearn.linear_model import LogisticRegression\n",
    "from sklearn.svm import SVC\n",
    "from sklearn.metrics import accuracy_score, f1_score\n"
   ]
  },
  {
   "cell_type": "code",
   "execution_count": 71,
   "id": "e7382142-2af5-4ebd-a124-d475cff38bd5",
   "metadata": {},
   "outputs": [
    {
     "name": "stderr",
     "output_type": "stream",
     "text": [
      "[nltk_data] Downloading package movie_reviews to\n",
      "[nltk_data]     C:\\Users\\Lenovo\\AppData\\Roaming\\nltk_data...\n",
      "[nltk_data]   Package movie_reviews is already up-to-date!\n"
     ]
    }
   ],
   "source": [
    "# Download movie reviews dataset\n",
    "nltk.download('movie_reviews')\n",
    "\n",
    "# Load movie reviews dataset\n",
    "documents = [(list(movie_reviews.words(fileid)), category)\n",
    "             for category in movie_reviews.categories()\n",
    "             for fileid in movie_reviews.fileids(category)]"
   ]
  },
  {
   "cell_type": "code",
   "execution_count": 72,
   "id": "a81f8819-1fd6-467c-a437-4e90cb4c0e38",
   "metadata": {},
   "outputs": [],
   "source": [
    "\n",
    "# Shuffle dataset to avoid order bias\n",
    "random.shuffle(documents)\n"
   ]
  },
  {
   "cell_type": "code",
   "execution_count": 73,
   "id": "041c6d35-002b-4026-835f-dbb91a457d46",
   "metadata": {},
   "outputs": [],
   "source": [
    "# Preprocessing: Extract features and labels\n",
    "reviews = [\" \".join(words) for words, label in documents]  # Join words into sentences\n",
    "labels = [label for words, label in documents]  # Extract sentiment labels (pos/neg)\n"
   ]
  },
  {
   "cell_type": "code",
   "execution_count": 74,
   "id": "b388455d-65f1-4a12-9c84-1428f5a4bbda",
   "metadata": {},
   "outputs": [],
   "source": [
    "\n",
    "# Convert labels to numeric format (pos -> 1, neg -> 0)\n",
    "labels = [1 if label == 'pos' else 0 for label in labels]"
   ]
  },
  {
   "cell_type": "code",
   "execution_count": 75,
   "id": "edc8986f-7076-4ce6-9cd2-fcdc2f1fdc7b",
   "metadata": {},
   "outputs": [],
   "source": [
    "\n",
    "# Text Vectorization using TF-IDF\n",
    "vectorizer = TfidfVectorizer(stop_words='english', lowercase=True, max_features=5000)\n",
    "X = vectorizer.fit_transform(reviews)\n"
   ]
  },
  {
   "cell_type": "code",
   "execution_count": 76,
   "id": "3be1afc5-81ff-4ff3-a1d3-aa58e7379e79",
   "metadata": {},
   "outputs": [],
   "source": [
    "# Split dataset into training and testing sets (80% train, 20% test)\n",
    "X_train, X_test, y_train, y_test = train_test_split(X, labels, test_size=0.2, random_state=42)\n",
    "\n",
    "# Train different models and compare performance\n",
    "models = {\n",
    "    \"Naïve Bayes\": MultinomialNB(),\n",
    "    \"Logistic Regression\": LogisticRegression(),\n",
    "    \"SVM\": SVC(kernel='linear')\n",
    "}"
   ]
  },
  {
   "cell_type": "code",
   "execution_count": 77,
   "id": "261bcfae-b8b9-434b-bf4b-d67e7595e87b",
   "metadata": {},
   "outputs": [
    {
     "name": "stdout",
     "output_type": "stream",
     "text": [
      "Naïve Bayes -> Accuracy: 0.82, F1-score: 0.81\n",
      "Logistic Regression -> Accuracy: 0.85, F1-score: 0.85\n",
      "SVM -> Accuracy: 0.84, F1-score: 0.84\n"
     ]
    }
   ],
   "source": [
    "# Evaluate each model\n",
    "for model_name, model in models.items():\n",
    "    model.fit(X_train, y_train)  # Train model\n",
    "    y_pred = model.predict(X_test)  # Predict on test set\n",
    "    acc = accuracy_score(y_test, y_pred)  # Calculate accuracy\n",
    "    f1 = f1_score(y_test, y_pred)  # Calculate F1-score\n",
    "    \n",
    "    print(f\"{model_name} -> Accuracy: {acc:.2f}, F1-score: {f1:.2f}\")\n"
   ]
  },
  {
   "cell_type": "code",
   "execution_count": 78,
   "id": "370c573b-8c7d-4dfe-87be-14c3f67d4c8e",
   "metadata": {},
   "outputs": [],
   "source": [
    "# Optional: Simple User Interface for Review Prediction\n",
    "def predict_review_sentiment(review):\n",
    "    \"\"\"\n",
    "    Function to predict the sentiment of a given movie review.\n",
    "    \"\"\"\n",
    "    review_tfidf = vectorizer.transform([review])  # Convert text to numerical format\n",
    "    prediction = models[\"Logistic Regression\"].predict(review_tfidf)  # Predict using the best model\n",
    "    return \"Positive\" if prediction[0] == 1 else \"Negative\""
   ]
  },
  {
   "cell_type": "code",
   "execution_count": 79,
   "id": "d9715ed7-7111-4559-9678-d9cde4db4d04",
   "metadata": {},
   "outputs": [
    {
     "name": "stdout",
     "output_type": "stream",
     "text": [
      "User Review Sentiment: Positive\n"
     ]
    }
   ],
   "source": [
    "# Example Usage:\n",
    "user_review = \"The movie was fantastic, full of suspense and great acting!\"\n",
    "print(f\"User Review Sentiment: {predict_review_sentiment(user_review)}\")"
   ]
  },
  {
   "cell_type": "code",
   "execution_count": null,
   "id": "bbb1c6a3-6ede-42a8-87f7-05722fb7303c",
   "metadata": {},
   "outputs": [],
   "source": []
  },
  {
   "cell_type": "code",
   "execution_count": null,
   "id": "8392dd6d-295f-47c4-b507-7752ac2758f7",
   "metadata": {},
   "outputs": [],
   "source": []
  }
 ],
 "metadata": {
  "kernelspec": {
   "display_name": "Python 3 (ipykernel)",
   "language": "python",
   "name": "python3"
  },
  "language_info": {
   "codemirror_mode": {
    "name": "ipython",
    "version": 3
   },
   "file_extension": ".py",
   "mimetype": "text/x-python",
   "name": "python",
   "nbconvert_exporter": "python",
   "pygments_lexer": "ipython3",
   "version": "3.12.4"
  }
 },
 "nbformat": 4,
 "nbformat_minor": 5
}
